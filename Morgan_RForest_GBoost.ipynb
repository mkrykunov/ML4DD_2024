{
 "cells": [
  {
   "cell_type": "markdown",
   "id": "cb56ee57-76ac-45db-a96c-b65b5c544417",
   "metadata": {},
   "source": [
    "# Machine Learning for Drug Discovery 2024\n",
    "### Solubility\n",
    "The code in this notebook is written to solve one of the problems from a hackathon at Machine Learning for Drug Discovery Summer School in Montreal in 2024. The benchmark is from polaris. Polaris is a hub for computational drug discovery benchmarks."
   ]
  },
  {
   "cell_type": "markdown",
   "id": "09663de6-330c-4b0a-a0ec-24c462c10be8",
   "metadata": {},
   "source": [
    "First, we import necessary packages. You might need to install polaris\n",
    "\n",
    "**pip install polaris-lib**"
   ]
  },
  {
   "cell_type": "code",
   "execution_count": 1,
   "id": "44b6f37c-e710-47d8-8579-0028c91bf6be",
   "metadata": {},
   "outputs": [],
   "source": [
    "import matplotlib.pyplot as plt\n",
    "import polaris as po\n",
    "import numpy as np\n",
    "import datamol as dm"
   ]
  },
  {
   "cell_type": "markdown",
   "id": "9a26c392-00d1-4ef8-92bd-8f70fc20f824",
   "metadata": {},
   "source": [
    "One of the benchmarks from the Polaris hub for the Log solubility problem containing 1578 training and 400 test points. It's a regression task. The info about this set can be found here: https://polarishub.io/benchmarks/polaris/adme-fang-solu-1"
   ]
  },
  {
   "cell_type": "markdown",
   "id": "3e93ac3a-34d1-4f6f-af78-45b30aee8ac4",
   "metadata": {},
   "source": [
    "Before loading you might need to register by running the following command\n",
    "\n",
    "**polaris login**"
   ]
  },
  {
   "cell_type": "code",
   "execution_count": 2,
   "id": "d43f34e8-50c5-4771-94e6-03c60e917116",
   "metadata": {},
   "outputs": [
    {
     "name": "stderr",
     "output_type": "stream",
     "text": [
      "\u001b[32m2024-07-09 18:34:48.332\u001b[0m | \u001b[1mINFO    \u001b[0m | \u001b[36mpolaris._artifact\u001b[0m:\u001b[36m_validate_version\u001b[0m:\u001b[36m66\u001b[0m - \u001b[1mThe version of Polaris that was used to create the artifact (0.0.0) is different from the currently installed version of Polaris (dev).\u001b[0m\n",
      "\u001b[32m2024-07-09 18:34:48.408\u001b[0m | \u001b[1mINFO    \u001b[0m | \u001b[36mpolaris._artifact\u001b[0m:\u001b[36m_validate_version\u001b[0m:\u001b[36m66\u001b[0m - \u001b[1mThe version of Polaris that was used to create the artifact (0.0.0) is different from the currently installed version of Polaris (dev).\u001b[0m\n"
     ]
    }
   ],
   "source": [
    "benchmark1 = po.load_benchmark(\"polaris/adme-fang-solu-1\")"
   ]
  },
  {
   "cell_type": "markdown",
   "id": "3c351c49-da16-47a6-9f24-7dc9ebf134b3",
   "metadata": {},
   "source": [
    "We will use Datamol's `dm.to_fp` to directly featurize the inputs."
   ]
  },
  {
   "cell_type": "code",
   "execution_count": 3,
   "id": "a5cf48da-0d5e-4b2e-a2c8-4cb5dc4546c4",
   "metadata": {},
   "outputs": [
    {
     "name": "stdout",
     "output_type": "stream",
     "text": [
      "[0 0 0 ... 0 0 0]\n",
      "1.567849451\n",
      "(1578, 2048)\n",
      "(1578,)\n"
     ]
    }
   ],
   "source": [
    "train, test = benchmark1.get_train_test_split(featurization_fn = dm.to_fp)\n",
    "print (train.inputs[0])\n",
    "print (train.targets[0])\n",
    "\n",
    "print (train.inputs.shape)\n",
    "print (train.targets.shape)"
   ]
  },
  {
   "cell_type": "markdown",
   "id": "2a97cf30-6233-4f85-8f00-6c7f5f0797de",
   "metadata": {},
   "source": [
    "The Morgan fingerprints are 2048 bits long and the targets are real numbers.\n",
    "\n",
    "Let's see if there are some columns containg only zeros, so that we can get rid of them."
   ]
  },
  {
   "cell_type": "code",
   "execution_count": 4,
   "id": "dd91defe-c8af-47ec-b553-631aeb65e831",
   "metadata": {},
   "outputs": [
    {
     "name": "stdout",
     "output_type": "stream",
     "text": [
      "[[0 0 0 ... 0 0 0]\n",
      " [0 0 0 ... 0 0 0]\n",
      " [0 0 0 ... 0 0 0]\n",
      " ...\n",
      " [0 0 1 ... 0 0 0]\n",
      " [0 0 0 ... 0 0 0]\n",
      " [0 0 0 ... 0 0 0]]\n",
      "(1578, 2048)\n"
     ]
    }
   ],
   "source": [
    "train_features_clean = train.inputs[:,~np.all(train.inputs == 0, axis = 0)]\n",
    "print (train_features_clean)\n",
    "print (train_features_clean.shape)"
   ]
  },
  {
   "cell_type": "markdown",
   "id": "10588a68-9eab-4723-80be-d78823bf3684",
   "metadata": {},
   "source": [
    "The size didn't change.\n",
    "\n",
    "Now we will plot the histogram of the target values from the training set. As we can see, it is quite far from the normal distribution."
   ]
  },
  {
   "cell_type": "code",
   "execution_count": 5,
   "id": "ce948e8b-c254-4586-a2d5-ca58caa7357b",
   "metadata": {},
   "outputs": [
    {
     "data": {
      "image/png": "[encoded data removed]",
      "text/plain": [
       "<Figure size 640x480 with 1 Axes>"
      ]
     },
     "metadata": {},
     "output_type": "display_data"
    }
   ],
   "source": [
    "plt.hist(train.targets, bins=30)\n",
    "plt.title(\"Train set\")\n",
    "plt.show()"
   ]
  },
  {
   "cell_type": "markdown",
   "id": "8dbbc53a-d97d-48ae-aee9-255f90d7f2bf",
   "metadata": {},
   "source": [
    "Unfortunately, we cannot plot the histogram for the test set, because within Polaris you should not need to access the targets of the test set. So, we cannot transform both sets."
   ]
  },
  {
   "cell_type": "markdown",
   "id": "7e3ecddd-4831-41a0-bdfd-9f76bf5ea1f3",
   "metadata": {},
   "source": [
    "Below is the code for the fitting our data with the Random Forest algorithm, which returns the R2 score. It accepts two hyperparameters: the number of estimators and the max depth of trees as well as the random state."
   ]
  },
  {
   "cell_type": "code",
   "execution_count": 6,
   "id": "54dcb7e9-f4cf-4695-bc75-9980212d63c3",
   "metadata": {},
   "outputs": [],
   "source": [
    "from sklearn.ensemble import RandomForestRegressor\n",
    "\n",
    "def RandomForest_r2(train, test, n_estimators, max_depth, random_state):\n",
    "    model = RandomForestRegressor(n_estimators = n_estimators, max_depth = max_depth, random_state = random_state)\n",
    "    model.fit(train.X, train.y)\n",
    "\n",
    "    y_pred = model.predict(test.X)\n",
    "\n",
    "    results = benchmark1.evaluate(y_pred)\n",
    "\n",
    "    for k, item in enumerate(results.results['Metric']):\n",
    "        if str(item) == 'Metric.r2':\n",
    "            return results, results.results['Score'][k]\n",
    "    return results, None"
   ]
  },
  {
   "cell_type": "markdown",
   "id": "e7944d39-8ee0-48c4-9a0a-603163592c51",
   "metadata": {},
   "source": [
    "Here is an example for 30 estimators and max depth of 5."
   ]
  },
  {
   "cell_type": "code",
   "execution_count": 7,
   "id": "815c817d-81b6-450a-bc4b-84f32bb900a8",
   "metadata": {},
   "outputs": [
    {
     "name": "stdout",
     "output_type": "stream",
     "text": [
      "30 5 0.1141961436623099\n"
     ]
    }
   ],
   "source": [
    "mrf, r2_score_mrf = RandomForest_r2(train, test, 30, 5, 777)\n",
    "print (30, 5, r2_score_mrf)"
   ]
  },
  {
   "cell_type": "markdown",
   "id": "2d12fe48-7228-4e5c-b84f-0848edfb2ca4",
   "metadata": {},
   "source": [
    "It might not be the best result. Therefore, the hyperparameters need to be optimized. Below is a simple genetic algorithm for the optimization of hyperparameters of the Random Forest model."
   ]
  },
  {
   "cell_type": "code",
   "execution_count": 8,
   "id": "51b4f2b2-fd20-482c-a112-43359b82e090",
   "metadata": {},
   "outputs": [],
   "source": [
    "def GA_for_RandomForest_r2(train, test, population_size = 16, n_steps = 10, to_print = False):\n",
    "    # hyperparameters\n",
    "    npop = population_size\n",
    "    n_estimators_1 = 15\n",
    "    n_estimators_2 = 150\n",
    "    max_depth_1 = 3\n",
    "    max_depth_2 = 12\n",
    "\n",
    "    estimators_limits = (5, 200)\n",
    "    depth_limits = (2, 20)\n",
    "\n",
    "    # calculate initial score\n",
    "    _, score1 = RandomForest_r2(train, test, n_estimators_1, max_depth_1, 777)\n",
    "    _, score2 = RandomForest_r2(train, test, n_estimators_2, max_depth_2, 777)\n",
    "\n",
    "    best_value = max(score1, score1)\n",
    "    r2_list = list()\n",
    "\n",
    "    if score1 > score2:\n",
    "        r2_list.append((score2, max_depth_2, n_estimators_2))\n",
    "        r2_list.append((score1, max_depth_1, n_estimators_1))\n",
    "    else:\n",
    "        r2_list.append((score1, max_depth_1, n_estimators_1))\n",
    "        r2_list.append((score2, max_depth_2, n_estimators_2))\n",
    "\n",
    "    # start the optimization\n",
    "    for i in range(n_steps):\n",
    "        print('iter %d. reward: %f' % (i, best_value))\n",
    "\n",
    "        pop_estimators = generate_population(n_estimators_1, n_estimators_2, estimators_limits, npop)\n",
    "        pop_depth = generate_population(max_depth_1, max_depth_2, depth_limits, npop)\n",
    "\n",
    "        R = np.zeros(npop)\n",
    "        for j in range(npop):\n",
    "            _, R[j] = RandomForest_r2(train, test, pop_estimators[j], pop_depth[j], 777)\n",
    "            if to_print: print (j, pop_estimators[j], pop_depth[j], R[j])\n",
    "\n",
    "        Z = [(x, y) for _, x, y in sorted(zip(R, pop_estimators, pop_depth), key=lambda pair: pair[0])]\n",
    "\n",
    "        n_estimators_1 = Z[-1][0]\n",
    "        n_estimators_2 = Z[-2][0]\n",
    "\n",
    "        max_depth_1 = Z[-1][1]\n",
    "        max_depth_2 = Z[-2][1]\n",
    "\n",
    "        if np.max(R) > best_value:\n",
    "            best_value = np.max(R)\n",
    "            r2_list.append((best_value, n_estimators_1, max_depth_1))\n",
    "        else:\n",
    "            n_estimators_2 = r2_list[-1][1]\n",
    "            max_depth_2 = r2_list[-1][2]\n",
    "\n",
    "    return best_value, r2_list"
   ]
  },
  {
   "cell_type": "markdown",
   "id": "05ec89bf-03af-4d87-966b-5de760c56eb7",
   "metadata": {},
   "source": [
    "We need to generate a population for the genetic algorithm. We will do it based on two \"parents\" and also randomly apply mutations. If the parents are integers, the population will also consits of integer numbers."
   ]
  },
  {
   "cell_type": "code",
   "execution_count": 9,
   "id": "652b0ecc-868d-4d66-8391-03cacedc1beb",
   "metadata": {},
   "outputs": [],
   "source": [
    "import random\n",
    "\n",
    "def generate_population(parent1, parent2, limits, npop):\n",
    "    population = []\n",
    "\n",
    "    for k in range(npop):\n",
    "        p = random.random()\n",
    "        mated_val = parent1 * p + parent2 * (1 - p)\n",
    "            \n",
    "        if random.random() < 0.2:\n",
    "            mated_val = mated_val * (0.7 + 0.6 * random.random())\n",
    "                \n",
    "        if mated_val < limits[0]:\n",
    "            mated_val = limits[0]\n",
    "        elif mated_val > limits[1]:\n",
    "            mated_val = limits[1]\n",
    "\n",
    "        if isinstance(parent1, int) and isinstance(parent2, int):\n",
    "            mated_val = int(mated_val)\n",
    "                \n",
    "        child = mated_val\n",
    "\n",
    "        population.append(child)\n",
    "       \n",
    "    return population"
   ]
  },
  {
   "cell_type": "markdown",
   "id": "a997965d-1e4d-4ca5-b086-060bc9cbef56",
   "metadata": {},
   "source": [
    "Let's run GA for 10 steps."
   ]
  },
  {
   "cell_type": "code",
   "execution_count": 10,
   "id": "025d815e-dd3b-456b-a702-777715823b78",
   "metadata": {},
   "outputs": [
    {
     "name": "stdout",
     "output_type": "stream",
     "text": [
      "iter 0. reward: 0.089301\n",
      "iter 1. reward: 0.168687\n",
      "iter 2. reward: 0.172770\n",
      "iter 3. reward: 0.174369\n",
      "iter 4. reward: 0.178748\n",
      "iter 5. reward: 0.183452\n",
      "iter 6. reward: 0.196024\n",
      "iter 7. reward: 0.196024\n",
      "iter 8. reward: 0.201364\n",
      "iter 9. reward: 0.203673\n"
     ]
    }
   ],
   "source": [
    "best_value, r2score_list = GA_for_RandomForest_r2(train, test, to_print = False)"
   ]
  },
  {
   "cell_type": "code",
   "execution_count": 11,
   "id": "0cdb34a0-3743-4612-8983-4030589ee948",
   "metadata": {},
   "outputs": [
    {
     "name": "stdout",
     "output_type": "stream",
     "text": [
      "(0.212156643600252, 67, 20)\n"
     ]
    }
   ],
   "source": [
    "print (r2score_list[-1])"
   ]
  },
  {
   "cell_type": "markdown",
   "id": "d98aa29f-9861-4c68-a438-028c5a767dc9",
   "metadata": {},
   "source": [
    "Now we rerun `RandomForest_r2` with the optimized hyperparameters."
   ]
  },
  {
   "cell_type": "code",
   "execution_count": 12,
   "id": "f506d661-3242-43f5-b966-c705ac0ac5bf",
   "metadata": {},
   "outputs": [
    {
     "name": "stdout",
     "output_type": "stream",
     "text": [
      "67 20 0.212156643600252\n",
      "name=None description='' tags=[] user_attributes={} owner=None polaris_version='dev' results=  Test set    Target label                      Metric     Score\n",
      "0     test  LOG_SOLUBILITY  Metric.mean_absolute_error  0.456667\n",
      "1     test  LOG_SOLUBILITY   Metric.mean_squared_error  0.427152\n",
      "2     test  LOG_SOLUBILITY                   Metric.r2  0.212157\n",
      "3     test  LOG_SOLUBILITY            Metric.spearmanr  0.415035\n",
      "4     test  LOG_SOLUBILITY             Metric.pearsonr  0.499596\n",
      "5     test  LOG_SOLUBILITY        Metric.explained_var  0.219326 benchmark_name='adme-fang-SOLU-1' benchmark_owner=HubOwner(slug='polaris', external_id='org_2gtoaJIVrgRqiIR8Qm5BnpFCbxu', type='organization') github_url=None paper_url=None contributors=None artifact_id=None benchmark_artifact_id='polaris/adme-fang-solu-1'\n"
     ]
    }
   ],
   "source": [
    "mrf, r2_score_mrf = RandomForest_r2(train, test, r2score_list[-1][1], r2score_list[-1][2], 777)\n",
    "print (r2score_list[-1][1], r2score_list[-1][2], r2_score_mrf)\n",
    "print (mrf)"
   ]
  },
  {
   "cell_type": "markdown",
   "id": "0fd23ad6-1638-4614-9c08-182726cc18ce",
   "metadata": {},
   "source": [
    "Let's now see if we can do better with the Gradient Boosting Decision Trees algorithm. Below is the code for the fitting our data with the Gradient Boosting Decision Trees algorithm, which returns the R2 score. It accepts three hyperparameters: the number of estimators, the max depth of trees and the learning rate as well as the random state."
   ]
  },
  {
   "cell_type": "code",
   "execution_count": 13,
   "id": "de39f601-b0a2-468d-b6b5-8d2fecb0619e",
   "metadata": {},
   "outputs": [],
   "source": [
    "from sklearn.ensemble import GradientBoostingRegressor\n",
    "\n",
    "def GBoost_r2(train, test, n_est, max_d, learn_r, rand_st):\n",
    "    model = GradientBoostingRegressor(n_estimators=n_est, max_depth=max_d, learning_rate=learn_r, random_state=rand_st)\n",
    "    model.fit(train.X, train.y)\n",
    "\n",
    "    y_pred = model.predict(test.X)\n",
    "\n",
    "    results = benchmark1.evaluate(y_pred)\n",
    "\n",
    "    for k, item in enumerate(results.results['Metric']):\n",
    "        if str(item) == 'Metric.r2':\n",
    "            return results, results.results['Score'][k]\n",
    "    return results, None"
   ]
  },
  {
   "cell_type": "markdown",
   "id": "a3aaf5ba-8fcf-4b0b-98b8-2b0bbaf794d7",
   "metadata": {},
   "source": [
    "Here is an example for 30 estimators, max depth of 5 and learning rate 0.12."
   ]
  },
  {
   "cell_type": "code",
   "execution_count": 14,
   "id": "a555b82e-a749-4804-88dc-e5208e91f813",
   "metadata": {},
   "outputs": [
    {
     "name": "stdout",
     "output_type": "stream",
     "text": [
      "30 5 0.12 0.1909362514113181\n"
     ]
    }
   ],
   "source": [
    "mgb, r2_score_mgb = GBoost_r2(train, test, 30, 5, 0.12, 777)\n",
    "print (30, 5, 0.12, r2_score_mgb)"
   ]
  },
  {
   "cell_type": "markdown",
   "id": "89767fdd-1d32-423a-94e3-7b733d977a09",
   "metadata": {},
   "source": [
    "Below is a simple genetic algorithm for the optimization of hyperparameters of the Gradient Boosting model."
   ]
  },
  {
   "cell_type": "code",
   "execution_count": 15,
   "id": "74593ced-8f65-43af-b190-6861770a3078",
   "metadata": {},
   "outputs": [],
   "source": [
    "def GA_for_GBoost_r2(train, test, population_size = 16, n_steps = 10, to_print = False):\n",
    "    # hyperparameters\n",
    "    npop = population_size\n",
    "    n_estimators_1 = 15\n",
    "    n_estimators_2 = 150\n",
    "    max_depth_1 = 3\n",
    "    max_depth_2 = 12\n",
    "    learning_rate_1 = -0.6 # it will be used as an exponent\n",
    "    learning_rate_2 = -1.6 # it will be used as an exponent\n",
    "\n",
    "    estimators_limits = (5, 200)\n",
    "    depth_limits = (2, 20)\n",
    "    learning_rate_limits = (-2.0, 0.0)\n",
    "\n",
    "    # calculate initial score\n",
    "    _, score1 = GBoost_r2(train, test, n_estimators_1, max_depth_1, 10**learning_rate_1, 777)\n",
    "    _, score2 = GBoost_r2(train, test, n_estimators_2, max_depth_2, 10**learning_rate_2, 777)\n",
    "\n",
    "    best_value = max(score1, score1)\n",
    "    r2_list = list()\n",
    "\n",
    "    if score1 > score2:\n",
    "        r2_list.append((score2, max_depth_2, n_estimators_2, learning_rate_2))\n",
    "        r2_list.append((score1, max_depth_1, n_estimators_1, learning_rate_1))\n",
    "    else:\n",
    "        r2_list.append((score1, max_depth_1, n_estimators_1, learning_rate_1))\n",
    "        r2_list.append((score2, max_depth_2, n_estimators_2, learning_rate_2))\n",
    "\n",
    "    # start the optimization\n",
    "    for i in range(n_steps):\n",
    "        print('iter %d. reward: %f' % (i, best_value))\n",
    "\n",
    "        pop_estimators = generate_population(n_estimators_1, n_estimators_2, estimators_limits, npop)\n",
    "        pop_depth = generate_population(max_depth_1, max_depth_2, depth_limits, npop)\n",
    "        pop_learning_rate = generate_population(learning_rate_1, learning_rate_2, learning_rate_limits, npop)\n",
    "\n",
    "        R = np.zeros(npop)\n",
    "        for j in range(npop):\n",
    "            _, R[j] = GBoost_r2(train, test, pop_estimators[j], pop_depth[j], 10**pop_learning_rate[j], 777)\n",
    "            if to_print: print (j, pop_estimators[j], pop_depth[j], 10**pop_learning_rate[j], R[j])\n",
    "\n",
    "        Z = [(x, y, z) for _, x, y, z in sorted(zip(R, pop_estimators, pop_depth, pop_learning_rate), key=lambda pair: pair[0])]\n",
    "\n",
    "        n_estimators_1 = Z[-1][0]\n",
    "        n_estimators_2 = Z[-2][0]\n",
    "\n",
    "        max_depth_1 = Z[-1][1]\n",
    "        max_depth_2 = Z[-2][1]\n",
    "\n",
    "        learning_rate_1 = Z[-1][2]\n",
    "        learning_rate_2 = Z[-2][2]\n",
    "\n",
    "        if np.max(R) > best_value:\n",
    "            best_value = np.max(R)\n",
    "            r2_list.append((best_value, n_estimators_1, max_depth_1, learning_rate_1))\n",
    "        else:\n",
    "            n_estimators_2 = r2_list[-1][1]\n",
    "            max_depth_2 = r2_list[-1][2]\n",
    "            learning_rate_2 = r2_list[-1][3]\n",
    "\n",
    "    return best_value, r2_list"
   ]
  },
  {
   "cell_type": "markdown",
   "id": "15294c51-ef82-4a2b-918d-e3da518dadbe",
   "metadata": {},
   "source": [
    "Let's run GA for 10 steps."
   ]
  },
  {
   "cell_type": "code",
   "execution_count": 16,
   "id": "a7041c9a-12d3-4c85-a3d6-62b395d654cd",
   "metadata": {},
   "outputs": [
    {
     "name": "stdout",
     "output_type": "stream",
     "text": [
      "iter 0. reward: 0.138732\n",
      "iter 1. reward: 0.227278\n",
      "iter 2. reward: 0.249996\n",
      "iter 3. reward: 0.249996\n",
      "iter 4. reward: 0.249996\n",
      "iter 5. reward: 0.259216\n",
      "iter 6. reward: 0.265759\n",
      "iter 7. reward: 0.280829\n",
      "iter 8. reward: 0.281360\n",
      "iter 9. reward: 0.281360\n"
     ]
    }
   ],
   "source": [
    "best_value, r2score_list = GA_for_GBoost_r2(train, test)"
   ]
  },
  {
   "cell_type": "code",
   "execution_count": 17,
   "id": "984565d7-6a55-4cff-8323-e0cd42d24982",
   "metadata": {},
   "outputs": [
    {
     "name": "stdout",
     "output_type": "stream",
     "text": [
      "(0.28171813674985613, 138, 8, -0.9990261044933678)\n"
     ]
    }
   ],
   "source": [
    "print (r2score_list[-1])"
   ]
  },
  {
   "cell_type": "markdown",
   "id": "e17d9797-5cc2-40f3-92d9-409ad120c146",
   "metadata": {},
   "source": [
    "Now we rerun `GBoost_r2` with the optimized hyperparameters."
   ]
  },
  {
   "cell_type": "code",
   "execution_count": 18,
   "id": "4b39e3ae-eaae-4ce8-9375-1b4ee019c3c6",
   "metadata": {},
   "outputs": [
    {
     "name": "stdout",
     "output_type": "stream",
     "text": [
      "138 8 0.10022449935083845 0.28171813674985613\n",
      "name=None description='' tags=[] user_attributes={} owner=None polaris_version='dev' results=  Test set    Target label                      Metric     Score\n",
      "0     test  LOG_SOLUBILITY  Metric.mean_absolute_error  0.437920\n",
      "1     test  LOG_SOLUBILITY   Metric.mean_squared_error  0.389437\n",
      "2     test  LOG_SOLUBILITY                   Metric.r2  0.281718\n",
      "3     test  LOG_SOLUBILITY            Metric.spearmanr  0.491951\n",
      "4     test  LOG_SOLUBILITY             Metric.pearsonr  0.538332\n",
      "5     test  LOG_SOLUBILITY        Metric.explained_var  0.285496 benchmark_name='adme-fang-SOLU-1' benchmark_owner=HubOwner(slug='polaris', external_id='org_2gtoaJIVrgRqiIR8Qm5BnpFCbxu', type='organization') github_url=None paper_url=None contributors=None artifact_id=None benchmark_artifact_id='polaris/adme-fang-solu-1'\n"
     ]
    }
   ],
   "source": [
    "rgb, r2_score_rgb = GBoost_r2(train, test, r2score_list[-1][1], r2score_list[-1][2], 10**r2score_list[-1][3], 777)\n",
    "print (r2score_list[-1][1], r2score_list[-1][2], 10**r2score_list[-1][3], r2_score_rgb)\n",
    "print (rgb)"
   ]
  },
  {
   "cell_type": "markdown",
   "id": "1f55cd6b-e778-492d-a9ea-e5a0177e1f64",
   "metadata": {},
   "source": [
    "## Conclusion\n",
    "\n",
    "The best results for the **Gradient Boosting Decision Trees** algorithm and Morgan fingerprints, **R2 = 0.281718**, are obtained with the following hyperparameters: n_estimators = 138, max_depth = 8, learning_rate = 0.10022449935083845.\n",
    "\n",
    "The best results for the **Random Forest** algorithm and Morgan fingerprints, **R2 = 0.212157**, are obtained with the following hyperparameters: n_estimators = 67, max_depth = 20.\n",
    "\n",
    "So, the Gradient Boosting Decision Trees algorithm is noticeably better than Random Forest.\n",
    "\n",
    "In the next Jypyter notebooks we will explore the performance of other descriptors with the Gradient Boosting Decision Trees algorithm."
   ]
  },
  {
   "cell_type": "code",
   "execution_count": null,
   "id": "c3ae3b2c-187d-4022-a430-ccf5b1acb617",
   "metadata": {},
   "outputs": [],
   "source": []
  }
 ],
 "metadata": {
  "kernelspec": {
   "display_name": "Python 3 (ipykernel)",
   "language": "python",
   "name": "python3"
  },
  "language_info": {
   "codemirror_mode": {
    "name": "ipython",
    "version": 3
   },
   "file_extension": ".py",
   "mimetype": "text/x-python",
   "name": "python",
   "nbconvert_exporter": "python",
   "pygments_lexer": "ipython3",
   "version": "3.12.4"
  }
 },
 "nbformat": 4,
 "nbformat_minor": 5
}
